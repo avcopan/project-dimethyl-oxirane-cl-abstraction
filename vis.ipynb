{
 "cells": [
  {
   "cell_type": "code",
   "execution_count": 1,
   "metadata": {},
   "outputs": [],
   "source": [
    "import autofile"
   ]
  },
  {
   "cell_type": "code",
   "execution_count": 2,
   "metadata": {},
   "outputs": [
    {
     "data": {
      "text/plain": [
       "([['R14'], [2.4094008099587305]],\n",
       " [['R14'], [2.4723916808073247]],\n",
       " [['R14'], [2.535382551655919]],\n",
       " [['R14'], [2.598373422504513]],\n",
       " [['R14'], [2.6793616850241344]],\n",
       " [['R14'], [2.7495515125411396]],\n",
       " [['R14'], [2.7936451221351555]],\n",
       " [['R14'], [2.837738731729172]],\n",
       " [['R14'], [2.8818323413231877]],\n",
       " [['R14'], [2.9493225600895387]],\n",
       " [['R14'], [3.2192834351549426]],\n",
       " [['R14'], [3.4892443102203465]],\n",
       " [['R14'], [3.7592051852857504]],\n",
       " [['R14'], [4.029166060351154]],\n",
       " [['R14'], [4.299126935416559]],\n",
       " [['R14'], [4.569087810481963]],\n",
       " [['R14'], [4.8390486855473664]],\n",
       " [['R14'], [5.378970435678174]],\n",
       " [['R14'], [5.918892185808982]],\n",
       " [['R14'], [6.188853060874386]])"
      ]
     },
     "execution_count": 2,
     "metadata": {},
     "output_type": "execute_result"
    }
   ],
   "source": [
    "scan_prefix = \"/lcrc/project/PACC/copan/amech-dev/work/project-automech-debugging/05_cl_ts_find_b2plyp/save/RXN/C4H7O.ClH/LDWMUHCKAHUBHY/0_0/2_1/DFWYDOINSA-N/C4H8O.Cl/YVAVETQEMWSGBK/0_0/1_2/HKTIBRIUSA-N/2/hJUn9NU/TS/00/Z/00/\"\n",
    "scan_fs = autofile.fs.scan(scan_prefix)\n",
    "locs = scan_fs[-1].existing()\n",
    "locs"
   ]
  },
  {
   "cell_type": "code",
   "execution_count": 29,
   "metadata": {},
   "outputs": [
    {
     "data": {
      "application/3dmoljs_load.v0": "<div id=\"3dmolviewer_1728395914637967\"  style=\"position: relative; width: 400px; height: 400px;\">\n        <p id=\"3dmolwarning_1728395914637967\" style=\"background-color:#ffcccc;color:black\">3Dmol.js failed to load for some reason.  Please check your browser console for error messages.<br></p>\n        </div>\n<script>\n\nvar loadScriptAsync = function(uri){\n  return new Promise((resolve, reject) => {\n    //this is to ignore the existence of requirejs amd\n    var savedexports, savedmodule;\n    if (typeof exports !== 'undefined') savedexports = exports;\n    else exports = {}\n    if (typeof module !== 'undefined') savedmodule = module;\n    else module = {}\n\n    var tag = document.createElement('script');\n    tag.src = uri;\n    tag.async = true;\n    tag.onload = () => {\n        exports = savedexports;\n        module = savedmodule;\n        resolve();\n    };\n  var firstScriptTag = document.getElementsByTagName('script')[0];\n  firstScriptTag.parentNode.insertBefore(tag, firstScriptTag);\n});\n};\n\nif(typeof $3Dmolpromise === 'undefined') {\n$3Dmolpromise = null;\n  $3Dmolpromise = loadScriptAsync('https://cdnjs.cloudflare.com/ajax/libs/3Dmol/2.1.0/3Dmol-min.js');\n}\n\nvar viewer_1728395914637967 = null;\nvar warn = document.getElementById(\"3dmolwarning_1728395914637967\");\nif(warn) {\n    warn.parentNode.removeChild(warn);\n}\n$3Dmolpromise.then(function() {\nviewer_1728395914637967 = $3Dmol.createViewer(document.getElementById(\"3dmolviewer_1728395914637967\"),{backgroundColor:\"white\"});\nviewer_1728395914637967.zoomTo();\n\tviewer_1728395914637967.addModel(\"\\n  automech\\n\\n  0  0  0  0  0  0  0  0  0  0999 V3000\\nM  V30 BEGIN CTAB\\nM  V30 COUNTS 14 13 0 0 0\\nM  V30 BEGIN ATOM\\nM  V30 1 C -1.134 -0.781 -0.020 RAD=1 VAL=4\\nM  V30 2 C -2.519 -0.882 -0.580 RAD=1 VAL=4\\nM  V30 3 C -0.420 0.467 0.153 RAD=2 VAL=3\\nM  V30 4 H -0.548 -1.692 -0.021 RAD=1 VAL=1\\nM  V30 5 O -1.019 -0.045 1.270 RAD=1 VAL=2\\nM  V30 6 C -0.589 1.865 -0.312 RAD=1 VAL=4\\nM  V30 7 H 1.479 0.013 0.057 RAD=1 VAL=1\\nM  V30 8 H -3.044 0.067 -0.504 RAD=1 VAL=1\\nM  V30 9 H -3.092 -1.641 -0.050 RAD=1 VAL=1\\nM  V30 10 H -2.470 -1.170 -1.630 RAD=1 VAL=1\\nM  V30 11 H -0.186 2.555 0.428 RAD=1 VAL=1\\nM  V30 12 H -0.063 2.017 -1.251 RAD=1 VAL=1\\nM  V30 13 H -1.646 2.105 -0.459 RAD=1 VAL=1\\nM  V30 14 Cl 2.688 -0.348 -0.128 RAD=1 VAL=1\\nM  V30 END ATOM\\nM  V30 BEGIN BOND\\nM  V30 1 1 6 12 CFG=0\\nM  V30 2 1 2 10 CFG=0\\nM  V30 3 1 2 8 CFG=0\\nM  V30 4 1 1 4 CFG=0\\nM  V30 5 1 1 2 CFG=0\\nM  V30 6 1 1 3 CFG=0\\nM  V30 7 1 6 13 CFG=0\\nM  V30 8 1 3 6 CFG=0\\nM  V30 9 1 1 5 CFG=0\\nM  V30 10 1 3 5 CFG=0\\nM  V30 11 1 2 9 CFG=0\\nM  V30 12 1 7 14 CFG=0\\nM  V30 13 1 6 11 CFG=0\\nM  V30 END BOND\\nM  V30 END CTAB\\nM  END\\n\",\"sdf\");\n\tviewer_1728395914637967.setStyle({\"stick\": {}, \"sphere\": {\"radius\": 0.3}});\n\tviewer_1728395914637967.setBackgroundColor(\"0xeeeeee\");\n\tviewer_1728395914637967.zoomTo();\nviewer_1728395914637967.render();\n});\n</script>",
      "text/html": [
       "<div id=\"3dmolviewer_1728395914637967\"  style=\"position: relative; width: 400px; height: 400px;\">\n",
       "        <p id=\"3dmolwarning_1728395914637967\" style=\"background-color:#ffcccc;color:black\">3Dmol.js failed to load for some reason.  Please check your browser console for error messages.<br></p>\n",
       "        </div>\n",
       "<script>\n",
       "\n",
       "var loadScriptAsync = function(uri){\n",
       "  return new Promise((resolve, reject) => {\n",
       "    //this is to ignore the existence of requirejs amd\n",
       "    var savedexports, savedmodule;\n",
       "    if (typeof exports !== 'undefined') savedexports = exports;\n",
       "    else exports = {}\n",
       "    if (typeof module !== 'undefined') savedmodule = module;\n",
       "    else module = {}\n",
       "\n",
       "    var tag = document.createElement('script');\n",
       "    tag.src = uri;\n",
       "    tag.async = true;\n",
       "    tag.onload = () => {\n",
       "        exports = savedexports;\n",
       "        module = savedmodule;\n",
       "        resolve();\n",
       "    };\n",
       "  var firstScriptTag = document.getElementsByTagName('script')[0];\n",
       "  firstScriptTag.parentNode.insertBefore(tag, firstScriptTag);\n",
       "});\n",
       "};\n",
       "\n",
       "if(typeof $3Dmolpromise === 'undefined') {\n",
       "$3Dmolpromise = null;\n",
       "  $3Dmolpromise = loadScriptAsync('https://cdnjs.cloudflare.com/ajax/libs/3Dmol/2.1.0/3Dmol-min.js');\n",
       "}\n",
       "\n",
       "var viewer_1728395914637967 = null;\n",
       "var warn = document.getElementById(\"3dmolwarning_1728395914637967\");\n",
       "if(warn) {\n",
       "    warn.parentNode.removeChild(warn);\n",
       "}\n",
       "$3Dmolpromise.then(function() {\n",
       "viewer_1728395914637967 = $3Dmol.createViewer(document.getElementById(\"3dmolviewer_1728395914637967\"),{backgroundColor:\"white\"});\n",
       "viewer_1728395914637967.zoomTo();\n",
       "\tviewer_1728395914637967.addModel(\"\\n  automech\\n\\n  0  0  0  0  0  0  0  0  0  0999 V3000\\nM  V30 BEGIN CTAB\\nM  V30 COUNTS 14 13 0 0 0\\nM  V30 BEGIN ATOM\\nM  V30 1 C -1.134 -0.781 -0.020 RAD=1 VAL=4\\nM  V30 2 C -2.519 -0.882 -0.580 RAD=1 VAL=4\\nM  V30 3 C -0.420 0.467 0.153 RAD=2 VAL=3\\nM  V30 4 H -0.548 -1.692 -0.021 RAD=1 VAL=1\\nM  V30 5 O -1.019 -0.045 1.270 RAD=1 VAL=2\\nM  V30 6 C -0.589 1.865 -0.312 RAD=1 VAL=4\\nM  V30 7 H 1.479 0.013 0.057 RAD=1 VAL=1\\nM  V30 8 H -3.044 0.067 -0.504 RAD=1 VAL=1\\nM  V30 9 H -3.092 -1.641 -0.050 RAD=1 VAL=1\\nM  V30 10 H -2.470 -1.170 -1.630 RAD=1 VAL=1\\nM  V30 11 H -0.186 2.555 0.428 RAD=1 VAL=1\\nM  V30 12 H -0.063 2.017 -1.251 RAD=1 VAL=1\\nM  V30 13 H -1.646 2.105 -0.459 RAD=1 VAL=1\\nM  V30 14 Cl 2.688 -0.348 -0.128 RAD=1 VAL=1\\nM  V30 END ATOM\\nM  V30 BEGIN BOND\\nM  V30 1 1 6 12 CFG=0\\nM  V30 2 1 2 10 CFG=0\\nM  V30 3 1 2 8 CFG=0\\nM  V30 4 1 1 4 CFG=0\\nM  V30 5 1 1 2 CFG=0\\nM  V30 6 1 1 3 CFG=0\\nM  V30 7 1 6 13 CFG=0\\nM  V30 8 1 3 6 CFG=0\\nM  V30 9 1 1 5 CFG=0\\nM  V30 10 1 3 5 CFG=0\\nM  V30 11 1 2 9 CFG=0\\nM  V30 12 1 7 14 CFG=0\\nM  V30 13 1 6 11 CFG=0\\nM  V30 END BOND\\nM  V30 END CTAB\\nM  END\\n\",\"sdf\");\n",
       "\tviewer_1728395914637967.setStyle({\"stick\": {}, \"sphere\": {\"radius\": 0.3}});\n",
       "\tviewer_1728395914637967.setBackgroundColor(\"0xeeeeee\");\n",
       "\tviewer_1728395914637967.zoomTo();\n",
       "viewer_1728395914637967.render();\n",
       "});\n",
       "</script>"
      ]
     },
     "metadata": {},
     "output_type": "display_data"
    }
   ],
   "source": [
    "import automol\n",
    "\n",
    "geo = scan_fs[-1].file.geometry.read(min(locs))\n",
    "automol.geom.display(geo)"
   ]
  },
  {
   "cell_type": "code",
   "execution_count": 39,
   "metadata": {},
   "outputs": [
    {
     "name": "stdout",
     "output_type": "stream",
     "text": [
      "/lcrc/project/PACC/copan/amech-dev/work/project-automech-debugging/05_cl_ts_find_b2plyp/save/RXN/C4H7O.ClH/LDWMUHCKAHUBHY/0_0/2_1/DFWYDOINSA-N/C4H8O.Cl/YVAVETQEMWSGBK/0_0/1_2/HKTIBRIUSA-N/2/hJUn9NU/TS/00/Z/00/SCANS/R14/4.30\n"
     ]
    },
    {
     "data": {
      "application/3dmoljs_load.v0": "<div id=\"3dmolviewer_1728403570821937\"  style=\"position: relative; width: 400px; height: 400px;\">\n        <p id=\"3dmolwarning_1728403570821937\" style=\"background-color:#ffcccc;color:black\">3Dmol.js failed to load for some reason.  Please check your browser console for error messages.<br></p>\n        </div>\n<script>\n\nvar loadScriptAsync = function(uri){\n  return new Promise((resolve, reject) => {\n    //this is to ignore the existence of requirejs amd\n    var savedexports, savedmodule;\n    if (typeof exports !== 'undefined') savedexports = exports;\n    else exports = {}\n    if (typeof module !== 'undefined') savedmodule = module;\n    else module = {}\n\n    var tag = document.createElement('script');\n    tag.src = uri;\n    tag.async = true;\n    tag.onload = () => {\n        exports = savedexports;\n        module = savedmodule;\n        resolve();\n    };\n  var firstScriptTag = document.getElementsByTagName('script')[0];\n  firstScriptTag.parentNode.insertBefore(tag, firstScriptTag);\n});\n};\n\nif(typeof $3Dmolpromise === 'undefined') {\n$3Dmolpromise = null;\n  $3Dmolpromise = loadScriptAsync('https://cdnjs.cloudflare.com/ajax/libs/3Dmol/2.1.0/3Dmol-min.js');\n}\n\nvar viewer_1728403570821937 = null;\nvar warn = document.getElementById(\"3dmolwarning_1728403570821937\");\nif(warn) {\n    warn.parentNode.removeChild(warn);\n}\n$3Dmolpromise.then(function() {\nviewer_1728403570821937 = $3Dmol.createViewer(document.getElementById(\"3dmolviewer_1728403570821937\"),{backgroundColor:\"white\"});\nviewer_1728403570821937.zoomTo();\n\tviewer_1728403570821937.addModel(\"\\n  automech\\n\\n  0  0  0  0  0  0  0  0  0  0999 V3000\\nM  V30 BEGIN CTAB\\nM  V30 COUNTS 14 13 0 0 0\\nM  V30 BEGIN ATOM\\nM  V30 1 C -0.919 -0.760 0.234 RAD=1 VAL=4\\nM  V30 2 C -1.983 -1.183 -0.733 RAD=1 VAL=4\\nM  V30 3 C -0.360 0.592 0.307 RAD=1 VAL=4\\nM  V30 4 H -0.284 -1.562 0.597 RAD=1 VAL=1\\nM  V30 5 O -1.307 0.159 1.280 RAD=1 VAL=2\\nM  V30 6 C -0.721 1.740 -0.588 RAD=1 VAL=4\\nM  V30 7 H 0.651 0.679 0.732 RAD=1 VAL=1\\nM  V30 8 H -2.602 -0.346 -1.042 RAD=1 VAL=1\\nM  V30 9 H -2.628 -1.931 -0.274 RAD=1 VAL=1\\nM  V30 10 H -1.526 -1.628 -1.617 RAD=1 VAL=1\\nM  V30 11 H -0.684 2.674 -0.029 RAD=1 VAL=1\\nM  V30 12 H -0.006 1.806 -1.408 RAD=1 VAL=1\\nM  V30 13 H -1.721 1.627 -0.997 RAD=1 VAL=1\\nM  V30 14 Cl 2.539 -0.290 -0.090 RAD=2 VAL=-1\\nM  V30 END ATOM\\nM  V30 BEGIN BOND\\nM  V30 1 1 6 12 CFG=0\\nM  V30 2 1 2 10 CFG=0\\nM  V30 3 1 2 8 CFG=0\\nM  V30 4 1 3 7 CFG=0\\nM  V30 5 1 1 4 CFG=0\\nM  V30 6 1 1 2 CFG=0\\nM  V30 7 1 1 3 CFG=0\\nM  V30 8 1 6 13 CFG=0\\nM  V30 9 1 3 6 CFG=0\\nM  V30 10 1 1 5 CFG=0\\nM  V30 11 1 3 5 CFG=0\\nM  V30 12 1 2 9 CFG=0\\nM  V30 13 1 6 11 CFG=0\\nM  V30 END BOND\\nM  V30 END CTAB\\nM  END\\n\",\"sdf\");\n\tviewer_1728403570821937.setStyle({\"stick\": {}, \"sphere\": {\"radius\": 0.3}});\n\tviewer_1728403570821937.setBackgroundColor(\"0xeeeeee\");\n\tviewer_1728403570821937.zoomTo();\nviewer_1728403570821937.render();\n});\n</script>",
      "text/html": [
       "<div id=\"3dmolviewer_1728403570821937\"  style=\"position: relative; width: 400px; height: 400px;\">\n",
       "        <p id=\"3dmolwarning_1728403570821937\" style=\"background-color:#ffcccc;color:black\">3Dmol.js failed to load for some reason.  Please check your browser console for error messages.<br></p>\n",
       "        </div>\n",
       "<script>\n",
       "\n",
       "var loadScriptAsync = function(uri){\n",
       "  return new Promise((resolve, reject) => {\n",
       "    //this is to ignore the existence of requirejs amd\n",
       "    var savedexports, savedmodule;\n",
       "    if (typeof exports !== 'undefined') savedexports = exports;\n",
       "    else exports = {}\n",
       "    if (typeof module !== 'undefined') savedmodule = module;\n",
       "    else module = {}\n",
       "\n",
       "    var tag = document.createElement('script');\n",
       "    tag.src = uri;\n",
       "    tag.async = true;\n",
       "    tag.onload = () => {\n",
       "        exports = savedexports;\n",
       "        module = savedmodule;\n",
       "        resolve();\n",
       "    };\n",
       "  var firstScriptTag = document.getElementsByTagName('script')[0];\n",
       "  firstScriptTag.parentNode.insertBefore(tag, firstScriptTag);\n",
       "});\n",
       "};\n",
       "\n",
       "if(typeof $3Dmolpromise === 'undefined') {\n",
       "$3Dmolpromise = null;\n",
       "  $3Dmolpromise = loadScriptAsync('https://cdnjs.cloudflare.com/ajax/libs/3Dmol/2.1.0/3Dmol-min.js');\n",
       "}\n",
       "\n",
       "var viewer_1728403570821937 = null;\n",
       "var warn = document.getElementById(\"3dmolwarning_1728403570821937\");\n",
       "if(warn) {\n",
       "    warn.parentNode.removeChild(warn);\n",
       "}\n",
       "$3Dmolpromise.then(function() {\n",
       "viewer_1728403570821937 = $3Dmol.createViewer(document.getElementById(\"3dmolviewer_1728403570821937\"),{backgroundColor:\"white\"});\n",
       "viewer_1728403570821937.zoomTo();\n",
       "\tviewer_1728403570821937.addModel(\"\\n  automech\\n\\n  0  0  0  0  0  0  0  0  0  0999 V3000\\nM  V30 BEGIN CTAB\\nM  V30 COUNTS 14 13 0 0 0\\nM  V30 BEGIN ATOM\\nM  V30 1 C -0.919 -0.760 0.234 RAD=1 VAL=4\\nM  V30 2 C -1.983 -1.183 -0.733 RAD=1 VAL=4\\nM  V30 3 C -0.360 0.592 0.307 RAD=1 VAL=4\\nM  V30 4 H -0.284 -1.562 0.597 RAD=1 VAL=1\\nM  V30 5 O -1.307 0.159 1.280 RAD=1 VAL=2\\nM  V30 6 C -0.721 1.740 -0.588 RAD=1 VAL=4\\nM  V30 7 H 0.651 0.679 0.732 RAD=1 VAL=1\\nM  V30 8 H -2.602 -0.346 -1.042 RAD=1 VAL=1\\nM  V30 9 H -2.628 -1.931 -0.274 RAD=1 VAL=1\\nM  V30 10 H -1.526 -1.628 -1.617 RAD=1 VAL=1\\nM  V30 11 H -0.684 2.674 -0.029 RAD=1 VAL=1\\nM  V30 12 H -0.006 1.806 -1.408 RAD=1 VAL=1\\nM  V30 13 H -1.721 1.627 -0.997 RAD=1 VAL=1\\nM  V30 14 Cl 2.539 -0.290 -0.090 RAD=2 VAL=-1\\nM  V30 END ATOM\\nM  V30 BEGIN BOND\\nM  V30 1 1 6 12 CFG=0\\nM  V30 2 1 2 10 CFG=0\\nM  V30 3 1 2 8 CFG=0\\nM  V30 4 1 3 7 CFG=0\\nM  V30 5 1 1 4 CFG=0\\nM  V30 6 1 1 2 CFG=0\\nM  V30 7 1 1 3 CFG=0\\nM  V30 8 1 6 13 CFG=0\\nM  V30 9 1 3 6 CFG=0\\nM  V30 10 1 1 5 CFG=0\\nM  V30 11 1 3 5 CFG=0\\nM  V30 12 1 2 9 CFG=0\\nM  V30 13 1 6 11 CFG=0\\nM  V30 END BOND\\nM  V30 END CTAB\\nM  END\\n\",\"sdf\");\n",
       "\tviewer_1728403570821937.setStyle({\"stick\": {}, \"sphere\": {\"radius\": 0.3}});\n",
       "\tviewer_1728403570821937.setBackgroundColor(\"0xeeeeee\");\n",
       "\tviewer_1728403570821937.zoomTo();\n",
       "viewer_1728403570821937.render();\n",
       "});\n",
       "</script>"
      ]
     },
     "metadata": {},
     "output_type": "display_data"
    }
   ],
   "source": [
    "geo = scan_fs[-1].file.geometry.read(locs[-6])\n",
    "print(scan_fs[-1].path(locs[-6]))\n",
    "automol.geom.display(geo)"
   ]
  },
  {
   "cell_type": "code",
   "execution_count": 5,
   "metadata": {},
   "outputs": [
    {
     "name": "stdout",
     "output_type": "stream",
     "text": [
      "[1.274999492411531, 1.3083328124745777, 1.3416661325376242, 1.3749994526006708, 1.4178565783960164, 1.4549994207519827, 1.4783327447961152, 1.501666068840248, 1.5249993928843806, 1.560713664380502, 1.703570750364987, 1.8464278363494724, 1.9892849223339575, 2.132142008318443, 2.2749990943029283, 2.417856180287414, 2.560713266271899, 2.846427438240869, 3.13214161020984, 3.2749986961943254]\n",
      "[-692.35435579916, -692.35527992097, -692.35554548123, -692.35550436183, -692.35540230092, -692.35539812486, -692.35550509878, -692.35566483117, -692.35582988555, -692.35604653367, -692.35609329606, -692.35505916964, -692.35370028755, -692.35259582017, -692.3519538407, -692.35204499146, -692.35311223057, -692.3489631347, -692.34884167522, -692.3487720199]\n"
     ]
    },
    {
     "data": {
      "image/png": "[encoded data removed]",
      "text/plain": [
       "<Figure size 640x480 with 1 Axes>"
      ]
     },
     "metadata": {},
     "output_type": "display_data"
    }
   ],
   "source": [
    "ene_loc = [\"b2plypd3\", \"cc-pvtz\", \"U\"]\n",
    "\n",
    "dists = []\n",
    "enes = []\n",
    "for loc in locs:\n",
    "    # Get the distance\n",
    "    *_, (dist,) = loc\n",
    "    dists.append(dist * 0.529177)\n",
    "\n",
    "    # Get the energy\n",
    "    scan_path = scan_fs[-1].path(loc)\n",
    "    sp_fs = autofile.fs.single_point(scan_path)\n",
    "    ene = sp_fs[-1].file.energy.read(ene_loc)\n",
    "    enes.append(ene)\n",
    "\n",
    "# dists.insert(1, 1.2787)\n",
    "# enes.insert(1, -0.69235450058314e+03)\n",
    "\n",
    "# dists.insert(2, 1.30663)\n",
    "# enes.insert(2, -0.69235527992097e+03)\n",
    "\n",
    "# dists.insert(3, 1.3417)\n",
    "# enes.insert(3, -0.69235554548123e+03)\n",
    "\n",
    "# dists.insert(5, 1.455)\n",
    "# enes.insert(5, -0.69235539812486e+03)\n",
    "\n",
    "print(dists)\n",
    "print(enes)\n",
    "\n",
    "from matplotlib import pyplot\n",
    "\n",
    "pyplot.plot(dists, enes)\n",
    "pyplot.show()"
   ]
  },
  {
   "cell_type": "code",
   "execution_count": null,
   "metadata": {},
   "outputs": [],
   "source": []
  }
 ],
 "metadata": {
  "kernelspec": {
   "display_name": "default",
   "language": "python",
   "name": "python3"
  },
  "language_info": {
   "codemirror_mode": {
    "name": "ipython",
    "version": 3
   },
   "file_extension": ".py",
   "mimetype": "text/x-python",
   "name": "python",
   "nbconvert_exporter": "python",
   "pygments_lexer": "ipython3",
   "version": "3.10.14"
  }
 },
 "nbformat": 4,
 "nbformat_minor": 2
}
